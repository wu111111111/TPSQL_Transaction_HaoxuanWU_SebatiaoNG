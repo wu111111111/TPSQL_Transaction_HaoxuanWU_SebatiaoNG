{
 "cells": [
  {
   "cell_type": "code",
   "execution_count": 1,
   "metadata": {},
   "outputs": [],
   "source": [
    "import pymssql\n",
    "\n",
    "server = \"HAOXUAN\\SQLEXPRESS\" \n",
    "user = \"sa\"\n",
    "password = \"1234567\"\n",
    "database = \"TestPython\" \n",
    "conn = pymssql.connect(server, user, password,database)\n",
    "\n",
    "cursor = conn.cursor()\n"
   ]
  },
  {
   "cell_type": "code",
   "execution_count": 12,
   "metadata": {},
   "outputs": [],
   "source": [
    "cursor.execute('SELECT * FROM Products')"
   ]
  },
  {
   "cell_type": "code",
   "execution_count": 13,
   "metadata": {},
   "outputs": [
    {
     "name": "stdout",
     "output_type": "stream",
     "text": [
      "ProductID=1, ProductPrice=12.4800\n",
      "ProductID=50, ProductPrice=3.1700\n",
      "ProductID=75, ProductPrice=None\n"
     ]
    }
   ],
   "source": [
    "row = cursor.fetchone()\n",
    "while row:\n",
    "    print(\"ProductID=%d, ProductPrice=%s\" % (row[0], row[2]))\n",
    "    row = cursor.fetchone()"
   ]
  },
  {
   "cell_type": "code",
   "execution_count": 14,
   "metadata": {},
   "outputs": [],
   "source": [
    "sql = \"\"\"update Products set Price=Price -  5 where ProductID='1';  \n",
    "update Products set Price=Price +  5 where ProductID='50';  \"\"\"\n",
    "\n",
    "try:\n",
    "   # executer le commande\n",
    "   cursor.execute(sql)\n",
    "   \n",
    "   conn.commit()\n",
    "except:\n",
    "   # Rollback in case there is any error\n",
    "   conn.rollback()"
   ]
  },
  {
   "cell_type": "code",
   "execution_count": 19,
   "metadata": {},
   "outputs": [
    {
     "name": "stdout",
     "output_type": "stream",
     "text": [
      "ProductID=1, ProductName=Clamp ,ProductPrice=7.4800\n",
      "ProductID=50, ProductName=Screwdriver ,ProductPrice=8.1700\n",
      "ProductID=75, ProductName=Tire Bar ,ProductPrice=None\n"
     ]
    }
   ],
   "source": [
    "cursor.execute('SELECT * FROM Products')\n",
    "row = cursor.fetchone()\n",
    "while row:\n",
    "    print(\"ProductID=%d, ProductName=%s ,ProductPrice=%s\" % (row[0], row[1],row[2]))\n",
    "    row = cursor.fetchone()"
   ]
  },
  {
   "cell_type": "code",
   "execution_count": 22,
   "metadata": {},
   "outputs": [],
   "source": [
    "sql = \"\"\"update Products set Price=Price -  2.48 where ProductID='1';  \n",
    "update Products set Price= 5 where ProductID='75';  \"\"\"\n",
    "\n",
    "try:\n",
    "   # executer le commande\n",
    "   cursor.execute(sql)\n",
    "   \n",
    "   conn.commit()\n",
    "except:\n",
    "   # Rollback in case there is any error\n",
    "   conn.rollback()"
   ]
  },
  {
   "cell_type": "code",
   "execution_count": 23,
   "metadata": {},
   "outputs": [
    {
     "name": "stdout",
     "output_type": "stream",
     "text": [
      "ProductID=1, ProductName=Clamp ,ProductPrice=5.0000\n",
      "ProductID=50, ProductName=Screwdriver ,ProductPrice=8.1700\n",
      "ProductID=75, ProductName=Tire Bar ,ProductPrice=5.0000\n"
     ]
    }
   ],
   "source": [
    "cursor.execute('SELECT * FROM Products')\n",
    "row = cursor.fetchone()\n",
    "while row:\n",
    "    print(\"ProductID=%d, ProductName=%s ,ProductPrice=%s\" % (row[0], row[1],row[2]))\n",
    "    row = cursor.fetchone()"
   ]
  },
  {
   "cell_type": "code",
   "execution_count": null,
   "metadata": {},
   "outputs": [],
   "source": []
  }
 ],
 "metadata": {
  "kernelspec": {
   "display_name": "Python 3",
   "language": "python",
   "name": "python3"
  },
  "language_info": {
   "codemirror_mode": {
    "name": "ipython",
    "version": 3
   },
   "file_extension": ".py",
   "mimetype": "text/x-python",
   "name": "python",
   "nbconvert_exporter": "python",
   "pygments_lexer": "ipython3",
   "version": "3.7.9"
  }
 },
 "nbformat": 4,
 "nbformat_minor": 4
}
